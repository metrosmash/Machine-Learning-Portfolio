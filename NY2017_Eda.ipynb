{
 "cells": [
  {
   "cell_type": "markdown",
   "id": "af7f87c9",
   "metadata": {},
   "source": [
    "## NY2017 EDA And Prediction "
   ]
  },
  {
   "cell_type": "code",
   "execution_count": 1,
   "id": "48373a3b",
   "metadata": {},
   "outputs": [],
   "source": [
    "#importing librarys \n",
    "import pandas as pd \n",
    "import numpy as np\n",
    "import matplotlib.pyplot as plt\n",
    "import seaborn as sns\n",
    "from sklearn.impute import SimpleImputer\n",
    "from sklearn.model_selection import train_test_split\n",
    "from sklearn.tree import DecisionTreeRegressor \n",
    "from sklearn.metrics import r2_score"
   ]
  },
  {
   "cell_type": "code",
   "execution_count": 2,
   "id": "4ada9837",
   "metadata": {},
   "outputs": [
    {
     "data": {
      "text/html": [
       "<div>\n",
       "<style scoped>\n",
       "    .dataframe tbody tr th:only-of-type {\n",
       "        vertical-align: middle;\n",
       "    }\n",
       "\n",
       "    .dataframe tbody tr th {\n",
       "        vertical-align: top;\n",
       "    }\n",
       "\n",
       "    .dataframe thead th {\n",
       "        text-align: right;\n",
       "    }\n",
       "</style>\n",
       "<table border=\"1\" class=\"dataframe\">\n",
       "  <thead>\n",
       "    <tr style=\"text-align: right;\">\n",
       "      <th></th>\n",
       "      <th>Hospital Service Area</th>\n",
       "      <th>Hospital County</th>\n",
       "      <th>Operating Certificate Number</th>\n",
       "      <th>Permanent Facility Id</th>\n",
       "      <th>Facility Name</th>\n",
       "      <th>Age Group</th>\n",
       "      <th>Zip Code - 3 digits</th>\n",
       "      <th>Gender</th>\n",
       "      <th>Race</th>\n",
       "      <th>Ethnicity</th>\n",
       "      <th>...</th>\n",
       "      <th>APR Risk of Mortality</th>\n",
       "      <th>APR Medical Surgical Description</th>\n",
       "      <th>Payment Typology 1</th>\n",
       "      <th>Payment Typology 2</th>\n",
       "      <th>Payment Typology 3</th>\n",
       "      <th>Birth Weight</th>\n",
       "      <th>Abortion Edit Indicator</th>\n",
       "      <th>Emergency Department Indicator</th>\n",
       "      <th>Total Charges</th>\n",
       "      <th>Total Costs</th>\n",
       "    </tr>\n",
       "  </thead>\n",
       "  <tbody>\n",
       "    <tr>\n",
       "      <th>0</th>\n",
       "      <td>Hudson Valley</td>\n",
       "      <td>Westchester</td>\n",
       "      <td>5903001.0</td>\n",
       "      <td>1061.0</td>\n",
       "      <td>Montefiore Mount Vernon Hospital</td>\n",
       "      <td>30 to 49</td>\n",
       "      <td>NaN</td>\n",
       "      <td>M</td>\n",
       "      <td>White</td>\n",
       "      <td>Not Span/Hispanic</td>\n",
       "      <td>...</td>\n",
       "      <td>Minor</td>\n",
       "      <td>Medical</td>\n",
       "      <td>Medicare</td>\n",
       "      <td>Medicare</td>\n",
       "      <td>Self-Pay</td>\n",
       "      <td>NaN</td>\n",
       "      <td>N</td>\n",
       "      <td>N</td>\n",
       "      <td>114168.00</td>\n",
       "      <td>40464.04</td>\n",
       "    </tr>\n",
       "    <tr>\n",
       "      <th>1</th>\n",
       "      <td>Hudson Valley</td>\n",
       "      <td>Westchester</td>\n",
       "      <td>5903001.0</td>\n",
       "      <td>1061.0</td>\n",
       "      <td>Montefiore Mount Vernon Hospital</td>\n",
       "      <td>50 to 69</td>\n",
       "      <td>105</td>\n",
       "      <td>M</td>\n",
       "      <td>White</td>\n",
       "      <td>Spanish/Hispanic</td>\n",
       "      <td>...</td>\n",
       "      <td>Moderate</td>\n",
       "      <td>Medical</td>\n",
       "      <td>Medicaid</td>\n",
       "      <td>Medicaid</td>\n",
       "      <td>Self-Pay</td>\n",
       "      <td>NaN</td>\n",
       "      <td>N</td>\n",
       "      <td>N</td>\n",
       "      <td>58517.00</td>\n",
       "      <td>26046.50</td>\n",
       "    </tr>\n",
       "    <tr>\n",
       "      <th>2</th>\n",
       "      <td>Hudson Valley</td>\n",
       "      <td>Westchester</td>\n",
       "      <td>5903001.0</td>\n",
       "      <td>1061.0</td>\n",
       "      <td>Montefiore Mount Vernon Hospital</td>\n",
       "      <td>30 to 49</td>\n",
       "      <td>105</td>\n",
       "      <td>F</td>\n",
       "      <td>White</td>\n",
       "      <td>Unknown</td>\n",
       "      <td>...</td>\n",
       "      <td>Moderate</td>\n",
       "      <td>Medical</td>\n",
       "      <td>Department of Corrections</td>\n",
       "      <td>Self-Pay</td>\n",
       "      <td>NaN</td>\n",
       "      <td>NaN</td>\n",
       "      <td>N</td>\n",
       "      <td>N</td>\n",
       "      <td>39647.04</td>\n",
       "      <td>17397.59</td>\n",
       "    </tr>\n",
       "    <tr>\n",
       "      <th>3</th>\n",
       "      <td>Hudson Valley</td>\n",
       "      <td>Westchester</td>\n",
       "      <td>5903001.0</td>\n",
       "      <td>1061.0</td>\n",
       "      <td>Montefiore Mount Vernon Hospital</td>\n",
       "      <td>50 to 69</td>\n",
       "      <td>105</td>\n",
       "      <td>F</td>\n",
       "      <td>White</td>\n",
       "      <td>Not Span/Hispanic</td>\n",
       "      <td>...</td>\n",
       "      <td>Moderate</td>\n",
       "      <td>Medical</td>\n",
       "      <td>Medicaid</td>\n",
       "      <td>Medicaid</td>\n",
       "      <td>Self-Pay</td>\n",
       "      <td>NaN</td>\n",
       "      <td>N</td>\n",
       "      <td>N</td>\n",
       "      <td>36031.09</td>\n",
       "      <td>16118.84</td>\n",
       "    </tr>\n",
       "    <tr>\n",
       "      <th>4</th>\n",
       "      <td>Hudson Valley</td>\n",
       "      <td>Westchester</td>\n",
       "      <td>5903001.0</td>\n",
       "      <td>1061.0</td>\n",
       "      <td>Montefiore Mount Vernon Hospital</td>\n",
       "      <td>18 to 29</td>\n",
       "      <td>105</td>\n",
       "      <td>F</td>\n",
       "      <td>White</td>\n",
       "      <td>Spanish/Hispanic</td>\n",
       "      <td>...</td>\n",
       "      <td>Minor</td>\n",
       "      <td>Medical</td>\n",
       "      <td>Department of Corrections</td>\n",
       "      <td>Self-Pay</td>\n",
       "      <td>NaN</td>\n",
       "      <td>NaN</td>\n",
       "      <td>N</td>\n",
       "      <td>N</td>\n",
       "      <td>30534.00</td>\n",
       "      <td>11921.05</td>\n",
       "    </tr>\n",
       "  </tbody>\n",
       "</table>\n",
       "<p>5 rows × 34 columns</p>\n",
       "</div>"
      ],
      "text/plain": [
       "  Hospital Service Area Hospital County  Operating Certificate Number  \\\n",
       "0         Hudson Valley     Westchester                     5903001.0   \n",
       "1         Hudson Valley     Westchester                     5903001.0   \n",
       "2         Hudson Valley     Westchester                     5903001.0   \n",
       "3         Hudson Valley     Westchester                     5903001.0   \n",
       "4         Hudson Valley     Westchester                     5903001.0   \n",
       "\n",
       "   Permanent Facility Id                     Facility Name Age Group  \\\n",
       "0                 1061.0  Montefiore Mount Vernon Hospital  30 to 49   \n",
       "1                 1061.0  Montefiore Mount Vernon Hospital  50 to 69   \n",
       "2                 1061.0  Montefiore Mount Vernon Hospital  30 to 49   \n",
       "3                 1061.0  Montefiore Mount Vernon Hospital  50 to 69   \n",
       "4                 1061.0  Montefiore Mount Vernon Hospital  18 to 29   \n",
       "\n",
       "  Zip Code - 3 digits Gender   Race          Ethnicity  ...  \\\n",
       "0                 NaN      M  White  Not Span/Hispanic  ...   \n",
       "1                 105      M  White   Spanish/Hispanic  ...   \n",
       "2                 105      F  White            Unknown  ...   \n",
       "3                 105      F  White  Not Span/Hispanic  ...   \n",
       "4                 105      F  White   Spanish/Hispanic  ...   \n",
       "\n",
       "  APR Risk of Mortality APR Medical Surgical Description  \\\n",
       "0                 Minor                          Medical   \n",
       "1              Moderate                          Medical   \n",
       "2              Moderate                          Medical   \n",
       "3              Moderate                          Medical   \n",
       "4                 Minor                          Medical   \n",
       "\n",
       "          Payment Typology 1  Payment Typology 2  Payment Typology 3  \\\n",
       "0                   Medicare            Medicare            Self-Pay   \n",
       "1                   Medicaid            Medicaid            Self-Pay   \n",
       "2  Department of Corrections            Self-Pay                 NaN   \n",
       "3                   Medicaid            Medicaid            Self-Pay   \n",
       "4  Department of Corrections            Self-Pay                 NaN   \n",
       "\n",
       "  Birth Weight  Abortion Edit Indicator Emergency Department Indicator  \\\n",
       "0          NaN                        N                              N   \n",
       "1          NaN                        N                              N   \n",
       "2          NaN                        N                              N   \n",
       "3          NaN                        N                              N   \n",
       "4          NaN                        N                              N   \n",
       "\n",
       "   Total Charges Total Costs  \n",
       "0      114168.00    40464.04  \n",
       "1       58517.00    26046.50  \n",
       "2       39647.04    17397.59  \n",
       "3       36031.09    16118.84  \n",
       "4       30534.00    11921.05  \n",
       "\n",
       "[5 rows x 34 columns]"
      ]
     },
     "metadata": {},
     "output_type": "display_data"
    },
    {
     "data": {
      "text/plain": [
       "(2343569, 34)"
      ]
     },
     "execution_count": 2,
     "metadata": {},
     "output_type": "execute_result"
    }
   ],
   "source": [
    "df = pd.read_csv('NY2017.csv', low_memory=False)\n",
    "display(df.head())\n",
    "df.shape"
   ]
  },
  {
   "cell_type": "code",
   "execution_count": 3,
   "id": "91cd9e40",
   "metadata": {},
   "outputs": [
    {
     "name": "stdout",
     "output_type": "stream",
     "text": [
      "<class 'pandas.core.frame.DataFrame'>\n",
      "RangeIndex: 2343569 entries, 0 to 2343568\n",
      "Data columns (total 34 columns):\n",
      " #   Column                               Dtype  \n",
      "---  ------                               -----  \n",
      " 0   Hospital Service Area                object \n",
      " 1   Hospital County                      object \n",
      " 2   Operating Certificate Number         float64\n",
      " 3   Permanent Facility Id                float64\n",
      " 4   Facility Name                        object \n",
      " 5   Age Group                            object \n",
      " 6   Zip Code - 3 digits                  object \n",
      " 7   Gender                               object \n",
      " 8   Race                                 object \n",
      " 9   Ethnicity                            object \n",
      " 10  Length of Stay                       object \n",
      " 11  Type of Admission                    object \n",
      " 12  Patient Disposition                  object \n",
      " 13  Discharge Year                       int64  \n",
      " 14  CCS Diagnosis Code                   int64  \n",
      " 15  CCS Diagnosis Description            object \n",
      " 16  CCS Procedure Code                   int64  \n",
      " 17  CCS Procedure Description            object \n",
      " 18  APR DRG Code                         int64  \n",
      " 19  APR DRG Description                  object \n",
      " 20  APR MDC Code                         int64  \n",
      " 21  APR MDC Description                  object \n",
      " 22  APR Severity of Illness Code         int64  \n",
      " 23  APR Severity of Illness Description  object \n",
      " 24  APR Risk of Mortality                object \n",
      " 25  APR Medical Surgical Description     object \n",
      " 26  Payment Typology 1                   object \n",
      " 27  Payment Typology 2                   object \n",
      " 28  Payment Typology 3                   object \n",
      " 29  Birth Weight                         object \n",
      " 30  Abortion Edit Indicator              object \n",
      " 31  Emergency Department Indicator       object \n",
      " 32  Total Charges                        float64\n",
      " 33  Total Costs                          float64\n",
      "dtypes: float64(4), int64(6), object(24)\n",
      "memory usage: 607.9+ MB\n"
     ]
    }
   ],
   "source": [
    "df.info()"
   ]
  },
  {
   "cell_type": "code",
   "execution_count": 4,
   "id": "32648a58",
   "metadata": {},
   "outputs": [
    {
     "data": {
      "text/html": [
       "<div>\n",
       "<style scoped>\n",
       "    .dataframe tbody tr th:only-of-type {\n",
       "        vertical-align: middle;\n",
       "    }\n",
       "\n",
       "    .dataframe tbody tr th {\n",
       "        vertical-align: top;\n",
       "    }\n",
       "\n",
       "    .dataframe thead th {\n",
       "        text-align: right;\n",
       "    }\n",
       "</style>\n",
       "<table border=\"1\" class=\"dataframe\">\n",
       "  <thead>\n",
       "    <tr style=\"text-align: right;\">\n",
       "      <th></th>\n",
       "      <th>Operating Certificate Number</th>\n",
       "      <th>Permanent Facility Id</th>\n",
       "      <th>Discharge Year</th>\n",
       "      <th>CCS Diagnosis Code</th>\n",
       "      <th>CCS Procedure Code</th>\n",
       "      <th>APR DRG Code</th>\n",
       "      <th>APR MDC Code</th>\n",
       "      <th>APR Severity of Illness Code</th>\n",
       "      <th>Total Charges</th>\n",
       "      <th>Total Costs</th>\n",
       "    </tr>\n",
       "  </thead>\n",
       "  <tbody>\n",
       "    <tr>\n",
       "      <th>count</th>\n",
       "      <td>2.338414e+06</td>\n",
       "      <td>2.338414e+06</td>\n",
       "      <td>2343569.0</td>\n",
       "      <td>2.343569e+06</td>\n",
       "      <td>2.343569e+06</td>\n",
       "      <td>2.343569e+06</td>\n",
       "      <td>2.343569e+06</td>\n",
       "      <td>2.343569e+06</td>\n",
       "      <td>2.343569e+06</td>\n",
       "      <td>2.343569e+06</td>\n",
       "    </tr>\n",
       "    <tr>\n",
       "      <th>mean</th>\n",
       "      <td>4.985786e+06</td>\n",
       "      <td>1.038981e+03</td>\n",
       "      <td>2017.0</td>\n",
       "      <td>1.898732e+02</td>\n",
       "      <td>1.013995e+02</td>\n",
       "      <td>4.161805e+02</td>\n",
       "      <td>1.031093e+01</td>\n",
       "      <td>2.020746e+00</td>\n",
       "      <td>4.972380e+04</td>\n",
       "      <td>1.664735e+04</td>\n",
       "    </tr>\n",
       "    <tr>\n",
       "      <th>std</th>\n",
       "      <td>2.263244e+06</td>\n",
       "      <td>7.202281e+02</td>\n",
       "      <td>0.0</td>\n",
       "      <td>1.649453e+02</td>\n",
       "      <td>8.681581e+01</td>\n",
       "      <td>2.424942e+02</td>\n",
       "      <td>5.900304e+00</td>\n",
       "      <td>8.891484e-01</td>\n",
       "      <td>9.524129e+04</td>\n",
       "      <td>4.377389e+04</td>\n",
       "    </tr>\n",
       "    <tr>\n",
       "      <th>min</th>\n",
       "      <td>1.010000e+05</td>\n",
       "      <td>1.000000e+00</td>\n",
       "      <td>2017.0</td>\n",
       "      <td>1.000000e+00</td>\n",
       "      <td>0.000000e+00</td>\n",
       "      <td>1.000000e+00</td>\n",
       "      <td>0.000000e+00</td>\n",
       "      <td>0.000000e+00</td>\n",
       "      <td>1.000000e-02</td>\n",
       "      <td>0.000000e+00</td>\n",
       "    </tr>\n",
       "    <tr>\n",
       "      <th>25%</th>\n",
       "      <td>2.951001e+06</td>\n",
       "      <td>5.410000e+02</td>\n",
       "      <td>2017.0</td>\n",
       "      <td>1.010000e+02</td>\n",
       "      <td>0.000000e+00</td>\n",
       "      <td>1.980000e+02</td>\n",
       "      <td>5.000000e+00</td>\n",
       "      <td>1.000000e+00</td>\n",
       "      <td>1.353980e+04</td>\n",
       "      <td>4.784650e+03</td>\n",
       "    </tr>\n",
       "    <tr>\n",
       "      <th>50%</th>\n",
       "      <td>5.904001e+06</td>\n",
       "      <td>1.097000e+03</td>\n",
       "      <td>2017.0</td>\n",
       "      <td>1.570000e+02</td>\n",
       "      <td>9.800000e+01</td>\n",
       "      <td>3.830000e+02</td>\n",
       "      <td>9.000000e+00</td>\n",
       "      <td>2.000000e+00</td>\n",
       "      <td>2.657496e+04</td>\n",
       "      <td>8.924510e+03</td>\n",
       "    </tr>\n",
       "    <tr>\n",
       "      <th>75%</th>\n",
       "      <td>7.002017e+06</td>\n",
       "      <td>1.453000e+03</td>\n",
       "      <td>2017.0</td>\n",
       "      <td>2.180000e+02</td>\n",
       "      <td>1.800000e+02</td>\n",
       "      <td>6.400000e+02</td>\n",
       "      <td>1.500000e+01</td>\n",
       "      <td>3.000000e+00</td>\n",
       "      <td>5.310669e+04</td>\n",
       "      <td>1.728076e+04</td>\n",
       "    </tr>\n",
       "    <tr>\n",
       "      <th>max</th>\n",
       "      <td>7.004010e+06</td>\n",
       "      <td>9.431000e+03</td>\n",
       "      <td>2017.0</td>\n",
       "      <td>2.617000e+03</td>\n",
       "      <td>2.310000e+02</td>\n",
       "      <td>9.560000e+02</td>\n",
       "      <td>2.500000e+01</td>\n",
       "      <td>4.000000e+00</td>\n",
       "      <td>9.696645e+06</td>\n",
       "      <td>8.868613e+06</td>\n",
       "    </tr>\n",
       "  </tbody>\n",
       "</table>\n",
       "</div>"
      ],
      "text/plain": [
       "       Operating Certificate Number  Permanent Facility Id  Discharge Year  \\\n",
       "count                  2.338414e+06           2.338414e+06       2343569.0   \n",
       "mean                   4.985786e+06           1.038981e+03          2017.0   \n",
       "std                    2.263244e+06           7.202281e+02             0.0   \n",
       "min                    1.010000e+05           1.000000e+00          2017.0   \n",
       "25%                    2.951001e+06           5.410000e+02          2017.0   \n",
       "50%                    5.904001e+06           1.097000e+03          2017.0   \n",
       "75%                    7.002017e+06           1.453000e+03          2017.0   \n",
       "max                    7.004010e+06           9.431000e+03          2017.0   \n",
       "\n",
       "       CCS Diagnosis Code  CCS Procedure Code  APR DRG Code  APR MDC Code  \\\n",
       "count        2.343569e+06        2.343569e+06  2.343569e+06  2.343569e+06   \n",
       "mean         1.898732e+02        1.013995e+02  4.161805e+02  1.031093e+01   \n",
       "std          1.649453e+02        8.681581e+01  2.424942e+02  5.900304e+00   \n",
       "min          1.000000e+00        0.000000e+00  1.000000e+00  0.000000e+00   \n",
       "25%          1.010000e+02        0.000000e+00  1.980000e+02  5.000000e+00   \n",
       "50%          1.570000e+02        9.800000e+01  3.830000e+02  9.000000e+00   \n",
       "75%          2.180000e+02        1.800000e+02  6.400000e+02  1.500000e+01   \n",
       "max          2.617000e+03        2.310000e+02  9.560000e+02  2.500000e+01   \n",
       "\n",
       "       APR Severity of Illness Code  Total Charges   Total Costs  \n",
       "count                  2.343569e+06   2.343569e+06  2.343569e+06  \n",
       "mean                   2.020746e+00   4.972380e+04  1.664735e+04  \n",
       "std                    8.891484e-01   9.524129e+04  4.377389e+04  \n",
       "min                    0.000000e+00   1.000000e-02  0.000000e+00  \n",
       "25%                    1.000000e+00   1.353980e+04  4.784650e+03  \n",
       "50%                    2.000000e+00   2.657496e+04  8.924510e+03  \n",
       "75%                    3.000000e+00   5.310669e+04  1.728076e+04  \n",
       "max                    4.000000e+00   9.696645e+06  8.868613e+06  "
      ]
     },
     "execution_count": 4,
     "metadata": {},
     "output_type": "execute_result"
    }
   ],
   "source": [
    "df.describe()"
   ]
  },
  {
   "cell_type": "markdown",
   "id": "f8b85960",
   "metadata": {},
   "source": [
    " -   After running the codes above i have a rundown of the data "
   ]
  },
  {
   "cell_type": "markdown",
   "id": "8dde5f1e",
   "metadata": {},
   "source": [
    "## Cleaning The Data "
   ]
  },
  {
   "cell_type": "code",
   "execution_count": 5,
   "id": "17d201a0",
   "metadata": {},
   "outputs": [
    {
     "data": {
      "text/plain": [
       "Birth Weight             90.276198\n",
       "Payment Typology 3       74.128135\n",
       "Payment Typology 2       37.495034\n",
       "Zip Code - 3 digits       1.664939\n",
       "Hospital Service Area     0.219964\n",
       "dtype: float64"
      ]
     },
     "execution_count": 5,
     "metadata": {},
     "output_type": "execute_result"
    },
    {
     "data": {
      "image/png": "[encoded data removed]",
      "text/plain": [
       "<Figure size 792x504 with 1 Axes>"
      ]
     },
     "metadata": {
      "needs_background": "light"
     },
     "output_type": "display_data"
    }
   ],
   "source": [
    "df_missing = df.isna().sum()[df.isna().sum() > 0].sort_values(ascending = False)/len(df)*100\n",
    "df_missing.plot.bar(figsize = (11,7), ylabel = 'Percent Missing values (%)')\n",
    "df_missing.head()"
   ]
  },
  {
   "cell_type": "markdown",
   "id": "418d49b9",
   "metadata": {},
   "source": [
    "- This is a histogram showing the missing values i will drop the columns that exceed 70% "
   ]
  },
  {
   "cell_type": "code",
   "execution_count": 6,
   "id": "2b77f970",
   "metadata": {},
   "outputs": [
    {
     "name": "stdout",
     "output_type": "stream",
     "text": [
      "<class 'pandas.core.frame.DataFrame'>\n",
      "RangeIndex: 2343569 entries, 0 to 2343568\n",
      "Data columns (total 35 columns):\n",
      " #   Column                               Dtype  \n",
      "---  ------                               -----  \n",
      " 0   Hospital Service Area                object \n",
      " 1   Hospital County                      object \n",
      " 2   Operating Certificate Number         float64\n",
      " 3   Permanent Facility Id                float64\n",
      " 4   Facility Name                        object \n",
      " 5   Age Group                            object \n",
      " 6   Zip Code - 3 digits                  object \n",
      " 7   Gender                               object \n",
      " 8   Race                                 object \n",
      " 9   Ethnicity                            object \n",
      " 10  Length of Stay                       object \n",
      " 11  Type of Admission                    object \n",
      " 12  Patient Disposition                  object \n",
      " 13  Discharge Year                       int64  \n",
      " 14  CCS Diagnosis Code                   int64  \n",
      " 15  CCS Diagnosis Description            object \n",
      " 16  CCS Procedure Code                   int64  \n",
      " 17  CCS Procedure Description            object \n",
      " 18  APR DRG Code                         int64  \n",
      " 19  APR DRG Description                  object \n",
      " 20  APR MDC Code                         int64  \n",
      " 21  APR MDC Description                  object \n",
      " 22  APR Severity of Illness Code         int64  \n",
      " 23  APR Severity of Illness Description  object \n",
      " 24  APR Risk of Mortality                object \n",
      " 25  APR Medical Surgical Description     object \n",
      " 26  Payment Typology 1                   object \n",
      " 27  Payment Typology 2                   object \n",
      " 28  Payment Typology 3                   object \n",
      " 29  Birth Weight                         object \n",
      " 30  Abortion Edit Indicator              object \n",
      " 31  Emergency Department Indicator       object \n",
      " 32  Total Charges                        float64\n",
      " 33  Total Costs                          float64\n",
      " 34  Length of Stay1                      float64\n",
      "dtypes: float64(5), int64(6), object(24)\n",
      "memory usage: 625.8+ MB\n",
      "None\n"
     ]
    }
   ],
   "source": [
    "df['Length of Stay1'] = df['Length of Stay'].replace('120 +',120, inplace = True)\n",
    "df['Length of Stay1'] = df['Length of Stay'].astype('float64')\n",
    "print(df.info())"
   ]
  },
  {
   "cell_type": "markdown",
   "id": "3aeb646b",
   "metadata": {},
   "source": [
    "- The Lenght of Stay had an error and was in another dtype so i made some changes "
   ]
  },
  {
   "cell_type": "code",
   "execution_count": 7,
   "id": "94567472",
   "metadata": {},
   "outputs": [
    {
     "name": "stdout",
     "output_type": "stream",
     "text": [
      "(2343569, 28)\n"
     ]
    }
   ],
   "source": [
    "df =  df.drop(['Birth Weight','Payment Typology 3','Zip Code - 3 digits','Operating Certificate Number','Facility Name','Permanent Facility Id','Length of Stay'], axis = 1)\n",
    "print(df.shape)"
   ]
  },
  {
   "cell_type": "markdown",
   "id": "1bf8a133",
   "metadata": {},
   "source": [
    "- I dropped the two columns that exceeded 70% and a few that i deemed useless "
   ]
  },
  {
   "cell_type": "code",
   "execution_count": 8,
   "id": "04d39666",
   "metadata": {},
   "outputs": [
    {
     "data": {
      "text/plain": [
       "\"coluimns with categorical values['Hospital Service Area', 'Hospital County', 'Age Group', 'Gender', 'Race', 'Ethnicity', 'Type of Admission', 'Patient Disposition', 'CCS Diagnosis Description', 'CCS Procedure Description', 'APR DRG Description', 'APR MDC Description', 'APR Severity of Illness Description', 'APR Risk of Mortality', 'APR Medical Surgical Description', 'Payment Typology 1', 'Payment Typology 2', 'Abortion Edit Indicator', 'Emergency Department Indicator']\""
      ]
     },
     "metadata": {},
     "output_type": "display_data"
    },
    {
     "data": {
      "text/plain": [
       "\"columns with integers['Discharge Year', 'CCS Diagnosis Code', 'CCS Procedure Code', 'APR DRG Code', 'APR MDC Code', 'APR Severity of Illness Code']\""
      ]
     },
     "metadata": {},
     "output_type": "display_data"
    }
   ],
   "source": [
    "cat_list = [words for words in df.columns if df[words].dtype == 'object' ]\n",
    "num_list = [num for num in df.columns if df[num].dtype in ['int64' or 'float64']]\n",
    "display(f'coluimns with categorical values{cat_list}')\n",
    "display(f'columns with integers{num_list}')"
   ]
  },
  {
   "cell_type": "markdown",
   "id": "8bd1ab76",
   "metadata": {},
   "source": [
    "- The code above creates a list of the columns with categorical data and numerical data and stores is it "
   ]
  },
  {
   "cell_type": "code",
   "execution_count": 9,
   "id": "381ffcc9",
   "metadata": {},
   "outputs": [
    {
     "data": {
      "text/plain": [
       "Hospital Service Area                  0\n",
       "Hospital County                        0\n",
       "Age Group                              0\n",
       "Gender                                 0\n",
       "Race                                   0\n",
       "Ethnicity                              0\n",
       "Type of Admission                      0\n",
       "Patient Disposition                    0\n",
       "Discharge Year                         0\n",
       "CCS Diagnosis Code                     0\n",
       "CCS Diagnosis Description              0\n",
       "CCS Procedure Code                     0\n",
       "CCS Procedure Description              0\n",
       "APR DRG Code                           0\n",
       "APR DRG Description                    0\n",
       "APR MDC Code                           0\n",
       "APR MDC Description                    0\n",
       "APR Severity of Illness Code           0\n",
       "APR Severity of Illness Description    0\n",
       "APR Risk of Mortality                  0\n",
       "APR Medical Surgical Description       0\n",
       "Payment Typology 1                     0\n",
       "Payment Typology 2                     0\n",
       "Abortion Edit Indicator                0\n",
       "Emergency Department Indicator         0\n",
       "Total Charges                          0\n",
       "Total Costs                            0\n",
       "Length of Stay1                        0\n",
       "dtype: int64"
      ]
     },
     "execution_count": 9,
     "metadata": {},
     "output_type": "execute_result"
    }
   ],
   "source": [
    "num_imp = SimpleImputer(strategy = 'median')\n",
    "cat_imp = SimpleImputer(strategy = 'most_frequent')\n",
    "df[cat_list] = cat_imp.fit_transform(df[cat_list])\n",
    "df[num_list] = num_imp.fit_transform(df[num_list])\n",
    "df.isna().sum()\n",
    "#display(df.tail())"
   ]
  },
  {
   "cell_type": "markdown",
   "id": "be23b1be",
   "metadata": {},
   "source": [
    "- I was unable to use the fillna function to fill the missing values so i used sklearn's OneHotEncoder  "
   ]
  },
  {
   "cell_type": "code",
   "execution_count": 10,
   "id": "c737579d",
   "metadata": {},
   "outputs": [
    {
     "name": "stdout",
     "output_type": "stream",
     "text": [
      "0    Not Span/Hispanic\n",
      "1     Spanish/Hispanic\n",
      "2              Unknown\n",
      "3    Not Span/Hispanic\n",
      "4     Spanish/Hispanic\n",
      "Name: Ethnicity, dtype: object\n"
     ]
    }
   ],
   "source": [
    "#df['Ethnicity'].replace('Unknown',np.nan ,inplace = True)\n",
    "print(df['Ethnicity'].head())"
   ]
  },
  {
   "cell_type": "markdown",
   "id": "4fdf222e",
   "metadata": {},
   "source": [
    "- the Unknown value can be one of the reasons why this person did not stay long in the hospital so i will leave it for now and let it be a parameter"
   ]
  },
  {
   "cell_type": "markdown",
   "id": "7b62e429",
   "metadata": {},
   "source": [
    "### Exploratory Data Analysis (EDA)"
   ]
  },
  {
   "cell_type": "code",
   "execution_count": 11,
   "id": "c386cd1b",
   "metadata": {},
   "outputs": [
    {
     "data": {
      "text/plain": [
       "array([[<AxesSubplot:title={'center':'Discharge Year'}>,\n",
       "        <AxesSubplot:title={'center':'CCS Diagnosis Code'}>,\n",
       "        <AxesSubplot:title={'center':'CCS Procedure Code'}>],\n",
       "       [<AxesSubplot:title={'center':'APR DRG Code'}>,\n",
       "        <AxesSubplot:title={'center':'APR MDC Code'}>,\n",
       "        <AxesSubplot:title={'center':'APR Severity of Illness Code'}>],\n",
       "       [<AxesSubplot:title={'center':'Total Charges'}>,\n",
       "        <AxesSubplot:title={'center':'Total Costs'}>,\n",
       "        <AxesSubplot:title={'center':'Length of Stay1'}>]], dtype=object)"
      ]
     },
     "execution_count": 11,
     "metadata": {},
     "output_type": "execute_result"
    },
    {
     "data": {
      "image/png": "[encoded data removed]",
      "text/plain": [
       "<Figure size 1440x720 with 9 Axes>"
      ]
     },
     "metadata": {
      "needs_background": "light"
     },
     "output_type": "display_data"
    }
   ],
   "source": [
    "df.hist(figsize = (20,10))"
   ]
  },
  {
   "cell_type": "code",
   "execution_count": 12,
   "id": "ddb59185",
   "metadata": {},
   "outputs": [
    {
     "data": {
      "text/plain": [
       "<AxesSubplot:xlabel='Gender', ylabel='Length of Stay1'>"
      ]
     },
     "execution_count": 12,
     "metadata": {},
     "output_type": "execute_result"
    },
    {
     "data": {
      "image/png": "[encoded data removed]",
      "text/plain": [
       "<Figure size 432x288 with 1 Axes>"
      ]
     },
     "metadata": {
      "needs_background": "light"
     },
     "output_type": "display_data"
    }
   ],
   "source": [
    "sns.boxplot(data =df ,x = 'Gender',y = 'Length of Stay1')"
   ]
  },
  {
   "cell_type": "markdown",
   "id": "931ff6aa",
   "metadata": {},
   "source": [
    "- There seems to be another value in the gender column (U)"
   ]
  },
  {
   "cell_type": "code",
   "execution_count": 13,
   "id": "6d34f5b4",
   "metadata": {},
   "outputs": [
    {
     "data": {
      "text/plain": [
       "<AxesSubplot:xlabel='Ethnicity', ylabel='Discharge Year'>"
      ]
     },
     "execution_count": 13,
     "metadata": {},
     "output_type": "execute_result"
    },
    {
     "data": {
      "image/png": "[encoded data removed]",
      "text/plain": [
       "<Figure size 432x288 with 1 Axes>"
      ]
     },
     "metadata": {
      "needs_background": "light"
     },
     "output_type": "display_data"
    }
   ],
   "source": [
    "sns.boxplot(data =df ,x = 'Ethnicity',y = 'Discharge Year')"
   ]
  },
  {
   "cell_type": "code",
   "execution_count": 14,
   "id": "f9075fb1",
   "metadata": {},
   "outputs": [
    {
     "name": "stdout",
     "output_type": "stream",
     "text": [
      "218.0    219894\n",
      "2.0      117175\n",
      "99.0      73867\n",
      "203.0     70865\n",
      "657.0     54465\n",
      "          ...  \n",
      "194.0        23\n",
      "86.0         22\n",
      "206.0        21\n",
      "174.0        11\n",
      "663.0         3\n",
      "Name: CCS Diagnosis Code, Length: 263, dtype: int64\n"
     ]
    },
    {
     "data": {
      "text/plain": [
       "Liveborn                                                            219894\n",
       "Septicemia (except in labor)                                        117175\n",
       "Hypertension with complications and secondary hypertension           73867\n",
       "Osteoarthritis                                                       70865\n",
       "Mood disorders                                                       54465\n",
       "                                                                     ...  \n",
       "Forceps delivery                                                        23\n",
       "Cataract                                                                22\n",
       "Osteoporosis                                                            21\n",
       "Female infertility                                                      11\n",
       "Screening and history of mental health and substance abuse codes         3\n",
       "Name: CCS Diagnosis Description, Length: 263, dtype: int64"
      ]
     },
     "execution_count": 14,
     "metadata": {},
     "output_type": "execute_result"
    }
   ],
   "source": [
    "#df['Ethnicity'].unique()\n",
    "#for i in df.columns:\n",
    "#   print(f'{i} = {df[i].unique()}')\n",
    "#    print('\\n|--------------------------------------------------------------------------|\\n')\n",
    "print(df['CCS Diagnosis Code'].value_counts())\n",
    "df['CCS Diagnosis Description'].value_counts()"
   ]
  },
  {
   "cell_type": "markdown",
   "id": "e1097ba7",
   "metadata": {},
   "source": [
    "- APR MDC Code and APR MDC Description columns are the same\n",
    "- APR DRG Code and APR DRG Description columns are also the same  \n",
    "- CCS Diagnosis Code and CCS Diagnosis Description columns are also the same \n",
    "- CCS Procedure Code and CCS Procedure Description columns are the same so i will drop one of each columns in a Pre-training Data cleaning "
   ]
  },
  {
   "cell_type": "code",
   "execution_count": 15,
   "id": "e4956e19",
   "metadata": {},
   "outputs": [
    {
     "name": "stdout",
     "output_type": "stream",
     "text": [
      "White                     1317040\n",
      "Other Race                 590915\n",
      "Black/African American     411487\n",
      "Multi-racial                24127\n",
      "Name: Race, dtype: int64\n"
     ]
    },
    {
     "data": {
      "text/plain": [
       "<AxesSubplot:>"
      ]
     },
     "execution_count": 15,
     "metadata": {},
     "output_type": "execute_result"
    },
    {
     "data": {
      "image/png": "[encoded data removed]",
      "text/plain": [
       "<Figure size 432x288 with 1 Axes>"
      ]
     },
     "metadata": {
      "needs_background": "light"
     },
     "output_type": "display_data"
    }
   ],
   "source": [
    "print(df['Race'].value_counts())\n",
    "df['Race'].value_counts().sort_index().plot(kind ='bar')"
   ]
  },
  {
   "cell_type": "markdown",
   "id": "b478a527",
   "metadata": {},
   "source": [
    "- There is the White race is more than the others this could cause the model to be bias "
   ]
  },
  {
   "cell_type": "code",
   "execution_count": 16,
   "id": "037d366f",
   "metadata": {},
   "outputs": [
    {
     "name": "stdout",
     "output_type": "stream",
     "text": [
      "Not Span/Hispanic    1895664\n",
      "Spanish/Hispanic      297871\n",
      "Unknown               141116\n",
      "Multi-ethnic            8918\n",
      "Name: Ethnicity, dtype: int64\n"
     ]
    },
    {
     "data": {
      "text/plain": [
       "<AxesSubplot:>"
      ]
     },
     "execution_count": 16,
     "metadata": {},
     "output_type": "execute_result"
    },
    {
     "data": {
      "image/png": "[encoded data removed]",
      "text/plain": [
       "<Figure size 432x288 with 1 Axes>"
      ]
     },
     "metadata": {
      "needs_background": "light"
     },
     "output_type": "display_data"
    }
   ],
   "source": [
    "print(df['Ethnicity'].value_counts())\n",
    "df['Ethnicity'].value_counts().plot(kind ='bar')"
   ]
  },
  {
   "cell_type": "markdown",
   "id": "8d6ca8fa",
   "metadata": {},
   "source": [
    "- The Ethnicity column shares the same problem as the Race column (Extreme Bias)"
   ]
  },
  {
   "cell_type": "code",
   "execution_count": 17,
   "id": "5635c4ec",
   "metadata": {},
   "outputs": [
    {
     "name": "stdout",
     "output_type": "stream",
     "text": [
      "N    2340218\n",
      "Y       3351\n",
      "Name: Abortion Edit Indicator, dtype: int64\n"
     ]
    },
    {
     "data": {
      "text/plain": [
       "<AxesSubplot:>"
      ]
     },
     "execution_count": 17,
     "metadata": {},
     "output_type": "execute_result"
    },
    {
     "data": {
      "image/png": "[encoded data removed]",
      "text/plain": [
       "<Figure size 432x288 with 1 Axes>"
      ]
     },
     "metadata": {
      "needs_background": "light"
     },
     "output_type": "display_data"
    }
   ],
   "source": [
    "print(df['Abortion Edit Indicator'].value_counts())\n",
    "df['Abortion Edit Indicator'].value_counts().plot(kind ='bar')"
   ]
  },
  {
   "cell_type": "markdown",
   "id": "f0801f7d",
   "metadata": {},
   "source": [
    "- There is also Extreme bias in the Abortion Edit Indicator column has shown above "
   ]
  },
  {
   "cell_type": "code",
   "execution_count": 18,
   "id": "edfcc0b5",
   "metadata": {},
   "outputs": [
    {
     "name": "stdout",
     "output_type": "stream",
     "text": [
      "2017.0    2343569\n",
      "Name: Discharge Year, dtype: int64\n"
     ]
    },
    {
     "data": {
      "text/plain": [
       "<AxesSubplot:>"
      ]
     },
     "execution_count": 18,
     "metadata": {},
     "output_type": "execute_result"
    },
    {
     "data": {
      "image/png": "[encoded data removed]",
      "text/plain": [
       "<Figure size 432x288 with 1 Axes>"
      ]
     },
     "metadata": {
      "needs_background": "light"
     },
     "output_type": "display_data"
    }
   ],
   "source": [
    "print(df['Discharge Year'].value_counts())\n",
    "df['Discharge Year'].value_counts().plot(kind ='bar')"
   ]
  },
  {
   "cell_type": "markdown",
   "id": "8d8c4cf3",
   "metadata": {},
   "source": [
    "- the Discharge Year column is useless its just one year(2017) i shall remove it during the Pre-training Data-cleaning"
   ]
  },
  {
   "cell_type": "code",
   "execution_count": 19,
   "id": "c60b5cf7",
   "metadata": {},
   "outputs": [
    {
     "name": "stdout",
     "output_type": "stream",
     "text": [
      "F    1296954\n",
      "M    1046540\n",
      "U         75\n",
      "Name: Gender, dtype: int64\n"
     ]
    },
    {
     "data": {
      "text/plain": [
       "<AxesSubplot:>"
      ]
     },
     "execution_count": 19,
     "metadata": {},
     "output_type": "execute_result"
    },
    {
     "data": {
      "image/png": "[encoded data removed]",
      "text/plain": [
       "<Figure size 432x288 with 1 Axes>"
      ]
     },
     "metadata": {
      "needs_background": "light"
     },
     "output_type": "display_data"
    }
   ],
   "source": [
    "print(df['Gender'].value_counts())\n",
    "df['Gender'].value_counts().plot(kind ='bar')"
   ]
  },
  {
   "cell_type": "markdown",
   "id": "31a78a22",
   "metadata": {},
   "source": [
    "- The Unknown values will be dealt with in the Pre-training Data-cleaning"
   ]
  },
  {
   "cell_type": "markdown",
   "id": "5b0256ad",
   "metadata": {},
   "source": [
    "## Pre-training Data-Cleaning"
   ]
  },
  {
   "cell_type": "code",
   "execution_count": 20,
   "id": "0c9f431b",
   "metadata": {},
   "outputs": [],
   "source": [
    "#var = df['Gender'].mode()\n",
    "#df['Gender'].replace('U',np.nan,inplace = True)\n",
    "#df['Gender'].fillna(var,inplace = True)\n",
    "#print(df['Gender'].value_counts())\n",
    "#print(df['Gender'].isna().sum())\n"
   ]
  },
  {
   "cell_type": "code",
   "execution_count": 21,
   "id": "71b4e78f",
   "metadata": {},
   "outputs": [
    {
     "name": "stdout",
     "output_type": "stream",
     "text": [
      "(2343569, 134)\n"
     ]
    }
   ],
   "source": [
    "y = df['Length of Stay1']\n",
    "df = df.drop(['Discharge Year','CCS Diagnosis Description','CCS Procedure Description', 'APR DRG Description','APR MDC Description','Length of Stay1'], axis =1 )\n",
    "cat_list2 = [words for words in df.columns if df[words].dtype == 'object' ]\n",
    "df = pd.get_dummies(data = df, columns = cat_list2,drop_first = True)\n",
    "X = df\n",
    "print(X.shape)\n",
    "X_train,X_test,y_train,y_test = train_test_split(X,y,test_size = 0.2)"
   ]
  },
  {
   "cell_type": "markdown",
   "id": "17749dcc",
   "metadata": {},
   "source": [
    "- Spliting the model into train and test datasets "
   ]
  },
  {
   "cell_type": "code",
   "execution_count": 22,
   "id": "b4adf4b4",
   "metadata": {},
   "outputs": [],
   "source": [
    "X_train1,X_val,y_train1,y_val = train_test_split(X_train,y_train,test_size = 0.3)"
   ]
  },
  {
   "cell_type": "markdown",
   "id": "22e70b43",
   "metadata": {},
   "source": [
    "- Then i split it into train and validation set for the training and hypertuning "
   ]
  },
  {
   "cell_type": "code",
   "execution_count": 25,
   "id": "079f4a37",
   "metadata": {},
   "outputs": [
    {
     "data": {
      "text/plain": [
       "DecisionTreeRegressor()"
      ]
     },
     "execution_count": 25,
     "metadata": {},
     "output_type": "execute_result"
    }
   ],
   "source": [
    "dtr = DecisionTreeRegressor()\n",
    "dtr.fit(X_train1,y_train1)"
   ]
  },
  {
   "cell_type": "code",
   "execution_count": 26,
   "id": "db4b6cf3",
   "metadata": {},
   "outputs": [
    {
     "name": "stdout",
     "output_type": "stream",
     "text": [
      "0.7634111663979846\n"
     ]
    }
   ],
   "source": [
    "y_val_pred = dtr.predict(X_val)\n",
    "print(r2_score(y_val ,y_val_pred))"
   ]
  },
  {
   "cell_type": "code",
   "execution_count": null,
   "id": "b5ac5aac",
   "metadata": {},
   "outputs": [],
   "source": []
  }
 ],
 "metadata": {
  "kernelspec": {
   "display_name": "Python 3 (ipykernel)",
   "language": "python",
   "name": "python3"
  },
  "language_info": {
   "codemirror_mode": {
    "name": "ipython",
    "version": 3
   },
   "file_extension": ".py",
   "mimetype": "text/x-python",
   "name": "python",
   "nbconvert_exporter": "python",
   "pygments_lexer": "ipython3",
   "version": "3.9.12"
  }
 },
 "nbformat": 4,
 "nbformat_minor": 5
}
